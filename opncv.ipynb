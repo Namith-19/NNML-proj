{
 "cells": [
  {
   "cell_type": "code",
   "execution_count": 2,
   "metadata": {},
   "outputs": [],
   "source": [
    "# Importing modules\n",
    "\n",
    "import cv2 as cv\n",
    "import pandas as pd\n",
    "import numpy as np\n",
    "import matplotlib.pyplot as plt"
   ]
  },
  {
   "cell_type": "code",
   "execution_count": 3,
   "metadata": {},
   "outputs": [
    {
     "data": {
      "text/plain": [
       "(1280, 720, 3)"
      ]
     },
     "execution_count": 3,
     "metadata": {},
     "output_type": "execute_result"
    }
   ],
   "source": [
    "# Reading the image where the first arg is the path and the second is the color format of the image that is to be read.\n",
    "pic = cv.imread(\n",
    "    \"C:/Users/namit/OneDrive/Desktop/Desktop/PROJECTS(CODE)/NNML/Project/pics/pic1.jpg\",\n",
    "    cv.IMREAD_COLOR,\n",
    ")\n",
    "\n",
    "# Showing the image in a seperate window where the first arg is the Title of the window and the second is the image.\n",
    "cv.imshow(\"image\", pic)\n",
    "\n",
    "\n",
    "# Waiting for \"0\" key to be pressed to exit from the window\n",
    "\n",
    "\n",
    "cv.waitKey(0)\n",
    "\n",
    "# Exiting from the window\n",
    "cv.destroyAllWindows()\n",
    "\n",
    "# .shape function will return the height x width of the image with the number of channels used by the picture i.e. RGB.\n",
    "# NOTE: IN greyscale image there is no RGB.\n",
    "\n",
    "pic.shape"
   ]
  },
  {
   "cell_type": "code",
   "execution_count": 4,
   "metadata": {},
   "outputs": [
    {
     "name": "stdout",
     "output_type": "stream",
     "text": [
      "(1280, 720, 3)\n",
      "[[[45 33 33]\n",
      "  [47 35 35]\n",
      "  [50 36 37]\n",
      "  ...\n",
      "  [45 32 48]\n",
      "  [46 33 47]\n",
      "  [44 31 45]]\n",
      "\n",
      " [[46 34 34]\n",
      "  [49 37 37]\n",
      "  [55 41 42]\n",
      "  ...\n",
      "  [47 34 48]\n",
      "  [48 36 48]\n",
      "  [47 35 47]]\n",
      "\n",
      " [[49 37 37]\n",
      "  [51 39 39]\n",
      "  [53 39 40]\n",
      "  ...\n",
      "  [46 32 43]\n",
      "  [47 33 44]\n",
      "  [47 33 44]]\n",
      "\n",
      " ...\n",
      "\n",
      " [[29 28 44]\n",
      "  [29 28 44]\n",
      "  [25 22 38]\n",
      "  ...\n",
      "  [22 33 83]\n",
      "  [30 39 89]\n",
      "  [29 38 88]]\n",
      "\n",
      " [[28 25 40]\n",
      "  [26 23 38]\n",
      "  [27 24 40]\n",
      "  ...\n",
      "  [18 30 78]\n",
      "  [29 39 87]\n",
      "  [27 37 85]]\n",
      "\n",
      " [[24 21 36]\n",
      "  [24 21 36]\n",
      "  [28 25 41]\n",
      "  ...\n",
      "  [19 32 78]\n",
      "  [25 35 83]\n",
      "  [24 34 82]]]\n"
     ]
    }
   ],
   "source": [
    "# cv. imread will read the picture that is to be read and gives us the RGB values of each pixcel in the image.\n",
    "print(pic.shape)\n",
    "print(pic)"
   ]
  },
  {
   "cell_type": "code",
   "execution_count": 7,
   "metadata": {},
   "outputs": [
    {
     "ename": "",
     "evalue": "",
     "output_type": "error",
     "traceback": [
      "\u001b[1;31mThe Kernel crashed while executing code in the current cell or a previous cell. \n",
      "\u001b[1;31mPlease review the code in the cell(s) to identify a possible cause of the failure. \n",
      "\u001b[1;31mClick <a href='https://aka.ms/vscodeJupyterKernelCrash'>here</a> for more info. \n",
      "\u001b[1;31mView Jupyter <a href='command:jupyter.viewOutput'>log</a> for further details."
     ]
    }
   ],
   "source": [
    "b, g, r = cv.split(pic)\n",
    "\n",
    "cv.imshow(\"BLUEIMG\", g)\n",
    "\n",
    "cv.waitKey(0)\n",
    "\n",
    "cv.destroyAllWindows()\n",
    "\n",
    "# NOTE: The picture in CV will be read as BGR format and when we use .split the Blue, Green and Red values will be splitted into each images and gets stored. Each image will represent its color."
   ]
  },
  {
   "cell_type": "code",
   "execution_count": null,
   "metadata": {},
   "outputs": [],
   "source": []
  }
 ],
 "metadata": {
  "kernelspec": {
   "display_name": "Python 3",
   "language": "python",
   "name": "python3"
  },
  "language_info": {
   "codemirror_mode": {
    "name": "ipython",
    "version": 3
   },
   "file_extension": ".py",
   "mimetype": "text/x-python",
   "name": "python",
   "nbconvert_exporter": "python",
   "pygments_lexer": "ipython3",
   "version": "3.11.9"
  }
 },
 "nbformat": 4,
 "nbformat_minor": 2
}
